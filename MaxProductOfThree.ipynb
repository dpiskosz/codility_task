{
 "cells": [
  {
   "cell_type": "markdown",
   "metadata": {},
   "source": [
    "A non-empty array A consisting of N integers is given. The product of triplet (P, Q, R) equates to A[P] * A[Q] * A[R] (0 ≤ P < Q < R < N).\n",
    "\n",
    "For example, array A such that:\n",
    "  A[0] = -3\n",
    "  A[1] = 1\n",
    "  A[2] = 2\n",
    "  A[3] = -2\n",
    "  A[4] = 5\n",
    "  A[5] = 6\n",
    "\n",
    "contains the following example triplets:\n",
    "\n",
    "        (0, 1, 2), product is −3 * 1 * 2 = −6\n",
    "        (1, 2, 4), product is 1 * 2 * 5 = 10\n",
    "        (2, 4, 5), product is 2 * 5 * 6 = 60\n",
    "\n",
    "Your goal is to find the maximal product of any triplet.\n",
    "\n",
    "Write a function:\n",
    "\n",
    "    class Solution { public int solution(int[] A); }\n",
    "\n",
    "that, given a non-empty array A, returns the value of the maximal product of any triplet.\n",
    "\n",
    "For example, given array A such that:\n",
    "  A[0] = -3\n",
    "  A[1] = 1\n",
    "  A[2] = 2\n",
    "  A[3] = -2\n",
    "  A[4] = 5\n",
    "  A[5] = 6\n",
    "\n",
    "the function should return 60, as the product of triplet (2, 4, 5) is maximal.\n",
    "\n",
    "Write an efficient algorithm for the following assumptions:\n",
    "\n",
    "        N is an integer within the range [3..100,000];\n",
    "        each element of array A is an integer within the range [−1,000..1,000].\n",
    "\n",
    "Detected time complexity: O(N * log(N))"
   ]
  },
  {
   "cell_type": "code",
   "execution_count": 24,
   "metadata": {},
   "outputs": [],
   "source": [
    "def solution(A):\n",
    "    A = sorted(A)\n",
    "    maxi = A[-1] * A[-2] * A[-3]\n",
    "    if len(A) > 3:\n",
    "        if max(A) < 0:\n",
    "            tmp = A[0]*A[1]*A[2]\n",
    "            if tmp > maxi:\n",
    "                maxi = tmp\n",
    "        if A[-1] > 0 and A[-2] < 0 and A[-3] < 0:\n",
    "            tmp1 = A[0] * A[1] * A[-1]\n",
    "            tmp2 = A[-1] * A[-2] * A[-3]\n",
    "            if tmp1 > tmp2:\n",
    "                if tmp1 > maxi:\n",
    "                    maxi = tmp1\n",
    "            if tmp2 > maxi:\n",
    "                    maxi = tmp2\n",
    "        if A[-1] > 0 and A[-2] > 0 and A[-3] < 0:\n",
    "            tmp1 = A[-1] * A[-2] * A[-3]\n",
    "            tmp2 = A[0] * A[1] * A[-1]\n",
    "            if tmp1 > tmp2:\n",
    "                if tmp1 > maxi:\n",
    "                    maxi = tmp1\n",
    "            else:\n",
    "                if tmp2 > maxi:\n",
    "                    maxi = tmp2\n",
    "        tmp1 = A[0] * A[1] * A[-1]\n",
    "        if tmp1 > maxi:\n",
    "            maxi = tmp1\n",
    "    return maxi"
   ]
  },
  {
   "cell_type": "code",
   "execution_count": 27,
   "metadata": {
    "collapsed": true
   },
   "outputs": [],
   "source": [
    "A = [-4, -6, 3, 4, 5]"
   ]
  },
  {
   "cell_type": "code",
   "execution_count": 28,
   "metadata": {},
   "outputs": [
    {
     "name": "stdout",
     "output_type": "stream",
     "text": [
      "120\n"
     ]
    }
   ],
   "source": [
    "print(solution(A))"
   ]
  },
  {
   "cell_type": "code",
   "execution_count": null,
   "metadata": {
    "collapsed": true
   },
   "outputs": [],
   "source": []
  }
 ],
 "metadata": {
  "kernelspec": {
   "display_name": "Python 3",
   "language": "python",
   "name": "python3"
  },
  "language_info": {
   "codemirror_mode": {
    "name": "ipython",
    "version": 3
   },
   "file_extension": ".py",
   "mimetype": "text/x-python",
   "name": "python",
   "nbconvert_exporter": "python",
   "pygments_lexer": "ipython3",
   "version": "3.6.4"
  }
 },
 "nbformat": 4,
 "nbformat_minor": 2
}
