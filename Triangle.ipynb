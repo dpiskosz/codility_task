{
 "cells": [
  {
   "cell_type": "markdown",
   "metadata": {},
   "source": [
    "An array A consisting of N integers is given. A triplet (P, Q, R) is triangular if 0 ≤ P < Q < R < N and:\n",
    "\n",
    "        A[P] + A[Q] > A[R],\n",
    "        A[Q] + A[R] > A[P],\n",
    "        A[R] + A[P] > A[Q].\n",
    "\n",
    "For example, consider array A such that:\n",
    "  A[0] = 10    A[1] = 2    A[2] = 5\n",
    "  A[3] = 1     A[4] = 8    A[5] = 20\n",
    "\n",
    "Triplet (0, 2, 4) is triangular.\n",
    "\n",
    "Write a function:\n",
    "\n",
    "    def solution(A)\n",
    "\n",
    "that, given an array A consisting of N integers, returns 1 if there exists a triangular triplet for this array and returns 0 otherwise.\n",
    "\n",
    "For example, given array A such that:\n",
    "  A[0] = 10    A[1] = 2    A[2] = 5\n",
    "  A[3] = 1     A[4] = 8    A[5] = 20\n",
    "\n",
    "the function should return 1, as explained above. Given array A such that:\n",
    "  A[0] = 10    A[1] = 50    A[2] = 5\n",
    "  A[3] = 1\n",
    "\n",
    "the function should return 0.\n",
    "\n",
    "Write an efficient algorithm for the following assumptions:\n",
    "\n",
    "        N is an integer within the range [0..100,000];\n",
    "        each element of array A is an integer within the range [−2,147,483,648..2,147,483,647].\n",
    "\n",
    "Detected time complexity: O(N*log(N))"
   ]
  },
  {
   "cell_type": "code",
   "execution_count": 5,
   "metadata": {
    "collapsed": true
   },
   "outputs": [],
   "source": [
    "def solution(A):\n",
    "    if len(A) < 3:\n",
    "        return 0\n",
    "    else:\n",
    "        A = sorted(A)\n",
    "        for idx in range(len(A)-2):\n",
    "            if A[idx] + A[idx+1] > A[idx+2]:\n",
    "                return 1\n",
    "        return 0"
   ]
  },
  {
   "cell_type": "code",
   "execution_count": 6,
   "metadata": {
    "collapsed": true
   },
   "outputs": [],
   "source": [
    "A = [10, 2, 5, 1, 8, 20]"
   ]
  },
  {
   "cell_type": "code",
   "execution_count": 7,
   "metadata": {},
   "outputs": [
    {
     "name": "stdout",
     "output_type": "stream",
     "text": [
      "1\n"
     ]
    }
   ],
   "source": [
    "print(solution(A))"
   ]
  },
  {
   "cell_type": "code",
   "execution_count": null,
   "metadata": {
    "collapsed": true
   },
   "outputs": [],
   "source": []
  }
 ],
 "metadata": {
  "kernelspec": {
   "display_name": "Python 3",
   "language": "python",
   "name": "python3"
  },
  "language_info": {
   "codemirror_mode": {
    "name": "ipython",
    "version": 3
   },
   "file_extension": ".py",
   "mimetype": "text/x-python",
   "name": "python",
   "nbconvert_exporter": "python",
   "pygments_lexer": "ipython3",
   "version": "3.6.4"
  }
 },
 "nbformat": 4,
 "nbformat_minor": 2
}
